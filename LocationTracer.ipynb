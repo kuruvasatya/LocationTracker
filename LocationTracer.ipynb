{
  "nbformat": 4,
  "nbformat_minor": 0,
  "metadata": {
    "colab": {
      "name": "LocationTracer.ipynb",
      "provenance": [],
      "collapsed_sections": []
    },
    "kernelspec": {
      "name": "python3",
      "display_name": "Python 3"
    }
  },
  "cells": [
    {
      "cell_type": "code",
      "metadata": {
        "id": "oSPdTDFFwMwc",
        "colab_type": "code",
        "colab": {}
      },
      "source": [
        "import urllib.request,urllib.parse,urllib.error\n",
        "import json\n",
        "import re"
      ],
      "execution_count": 0,
      "outputs": []
    },
    {
      "cell_type": "code",
      "metadata": {
        "id": "tcgDYxOsw3G_",
        "colab_type": "code",
        "colab": {
          "base_uri": "https://localhost:8080/",
          "height": 34
        },
        "outputId": "716cf36c-671f-4adf-9323-14afc8000cdd"
      },
      "source": [
        "address = input('Enter the ip Address : ')"
      ],
      "execution_count": 86,
      "outputs": [
        {
          "output_type": "stream",
          "text": [
            "Enter the ip Address : 196.108.18.252\n"
          ],
          "name": "stdout"
        }
      ]
    },
    {
      "cell_type": "code",
      "metadata": {
        "id": "V6YKyjYzxPq_",
        "colab_type": "code",
        "colab": {
          "base_uri": "https://localhost:8080/",
          "height": 34
        },
        "outputId": "480f590b-fa66-41bd-dd42-8e8b45c759b4"
      },
      "source": [
        "Coordinates = \"https://ipapi.co/{}/json/\".format(address)\n",
        "urlData = urllib.request.urlopen(Coordinates).read().decode()\n",
        "print(\"Retreived {} Characters\".format(len(urlData)))"
      ],
      "execution_count": 87,
      "outputs": [
        {
          "output_type": "stream",
          "text": [
            "Retreived 706 Characters\n"
          ],
          "name": "stdout"
        }
      ]
    },
    {
      "cell_type": "code",
      "metadata": {
        "id": "BVbWHe66xxil",
        "colab_type": "code",
        "colab": {}
      },
      "source": [
        "latitude =float(re.findall(\"\\\"latitude\\\": (.*),\",urlData)[0])\n",
        "longitude = float(re.findall(\"\\\"longitude\\\": (.*),\",urlData)[0])"
      ],
      "execution_count": 0,
      "outputs": []
    },
    {
      "cell_type": "code",
      "metadata": {
        "id": "4k_iUi8XyvLI",
        "colab_type": "code",
        "colab": {
          "base_uri": "https://localhost:8080/",
          "height": 52
        },
        "outputId": "b4e3b8da-3202-47c2-bed8-6332348d9e17"
      },
      "source": [
        "print('latitude : ',latitude)\n",
        "print('Longitude : ',longitude)"
      ],
      "execution_count": 89,
      "outputs": [
        {
          "output_type": "stream",
          "text": [
            "latitude :  -1.2841\n",
            "Longitude :  36.8155\n"
          ],
          "name": "stdout"
        }
      ]
    },
    {
      "cell_type": "code",
      "metadata": {
        "id": "4Mf5kN8Q0lKH",
        "colab_type": "code",
        "colab": {
          "base_uri": "https://localhost:8080/",
          "height": 34
        },
        "outputId": "1a0bf938-dccb-46d7-f202-ec9986aadca2"
      },
      "source": [
        "location = \"https://api.bigdatacloud.net/data/reverse-geocode-client?latitude={}&longitude={}&localityLanguage=en\".format(str(latitude),str(longitude))\n",
        "locData = urllib.request.urlopen(location).read().decode()\n",
        "print(location)"
      ],
      "execution_count": 90,
      "outputs": [
        {
          "output_type": "stream",
          "text": [
            "https://api.bigdatacloud.net/data/reverse-geocode-client?latitude=-1.2841&longitude=36.8155&localityLanguage=en\n"
          ],
          "name": "stdout"
        }
      ]
    },
    {
      "cell_type": "code",
      "metadata": {
        "id": "avHmV6-U1OOd",
        "colab_type": "code",
        "colab": {
          "base_uri": "https://localhost:8080/",
          "height": 87
        },
        "outputId": "7b1ca53d-b56a-47ca-d04d-d9cfa909082a"
      },
      "source": [
        "city = re.findall(\"\\\"city\\\": (.*?),\",locData)[0][1:-1]+ \" ,\"+re.findall(\"\\\"locality\\\": (.*?),\",locData)[0][1:-1]\n",
        "state = re.findall(\"\\\"principalSubdivision\\\": (.*?),\",locData)[0][1:-1]\n",
        "country = re.findall(\"\\\"countryName\\\": (.*?),\",locData)[0][1:-1]\n",
        "continent = re.findall(\"\\\"continent\\\": (.*?),\",locData)[0][1:-1]\n",
        "print(\"City : \",city)\n",
        "print(\"State : \",state)\n",
        "print(\"Country :\",country)\n",
        "print(\"Continent :\",continent)"
      ],
      "execution_count": 91,
      "outputs": [
        {
          "output_type": "stream",
          "text": [
            "City :   ,Nairobi County\n",
            "State :  Nairobi County\n",
            "Country : Kenya\n",
            "Continent : Africa\n"
          ],
          "name": "stdout"
        }
      ]
    },
    {
      "cell_type": "code",
      "metadata": {
        "id": "N6SUVmsuyA8U",
        "colab_type": "code",
        "colab": {}
      },
      "source": [
        "import folium"
      ],
      "execution_count": 0,
      "outputs": []
    },
    {
      "cell_type": "code",
      "metadata": {
        "id": "_eRdMwA_yec8",
        "colab_type": "code",
        "colab": {
          "base_uri": "https://localhost:8080/",
          "height": 866
        },
        "outputId": "429e54b3-d34a-44fb-f4b3-b75d22e54e8f"
      },
      "source": [
        "map  = folium.Map(location=[latitude,longitude])\n",
        "\n",
        "folium.CircleMarker(location=[latitude,longitude],color =\"red\",radius=10,fill=True,fill_color='red').add_to(map)\n",
        "folium.Marker(location=[latitude,longitude],\n",
        "              tooltip = \"You are Here\",\n",
        "              popup= folium.Popup(('<strong><font color =\"red\">City : </font>'+city+'</strong><br>'+\n",
        "                                   '<strong><font color = \"red\">State : </font>'+state+'</strong><br>'+\n",
        "                                   '<strong><font color = \"red\">Country : </font>'+country+'</strong><br>'+\n",
        "                                   '<strong><font color = \"red\">Continent : </font>'+continent+'</strong><br>'),max_width=200)).add_to(map)\n",
        "\n",
        "map"
      ],
      "execution_count": 92,
      "outputs": [
        {
          "output_type": "execute_result",
          "data": {
            "text/html": [
              "<div style=\"width:100%;\"><div style=\"position:relative;width:100%;height:0;padding-bottom:60%;\"><span style=\"color:#565656\">Make this Notebook Trusted to load map: File -> Trust Notebook</span><iframe src=\"about:blank\" style=\"position:absolute;width:100%;height:100%;left:0;top:0;border:none !important;\" data-html=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 onload=\"this.contentDocument.open();this.contentDocument.write(atob(this.getAttribute('data-html')));this.contentDocument.close();\" allowfullscreen webkitallowfullscreen mozallowfullscreen></iframe></div></div>"
            ],
            "text/plain": [
              "<folium.folium.Map at 0x7f1fbc07c208>"
            ]
          },
          "metadata": {
            "tags": []
          },
          "execution_count": 92
        }
      ]
    },
    {
      "cell_type": "code",
      "metadata": {
        "id": "ss9ADWEoyrFD",
        "colab_type": "code",
        "colab": {}
      },
      "source": [
        ""
      ],
      "execution_count": 0,
      "outputs": []
    }
  ]
}